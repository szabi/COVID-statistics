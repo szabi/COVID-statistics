{
 "cells": [
  {
   "cell_type": "code",
   "execution_count": 1,
   "metadata": {},
   "outputs": [],
   "source": [
    "import matplotlib\n",
    "import matplotlib.pyplot as plt\n",
    "import numpy as np\n",
    "import pandas as pd\n",
    "from matplotlib import pyplot as plt\n",
    "from matplotlib.lines import Line2D\n",
    "from lib.util import retrieveDataFile, reds"
   ]
  },
  {
   "cell_type": "markdown",
   "metadata": {},
   "source": [
    "# Deaths in Austria from 2000 (excl. deaths abroad) by calendar week\n",
    "\n",
    "Source: https://data.statistik.gv.at/web/meta.jsp?dataset=OGD_gest_kalwo_GEST_KALWOCHE_100  \n",
    "\n",
    "Note: updated on thursday mornings (?)\n",
    "\n",
    "Concrete data URL: https://data.statistik.gv.at/data/OGD_gest_kalwo_GEST_KALWOCHE_100.csv"
   ]
  },
  {
   "cell_type": "code",
   "execution_count": 2,
   "metadata": {},
   "outputs": [],
   "source": [
    "# Dictionary\n",
    "#  - key:   ISO 3166-1 alpha-2 country code\n",
    "#  - value: URL\n",
    "data_sources = {\n",
    "    'at' : 'https://data.statistik.gv.at/data/OGD_gest_kalwo_GEST_KALWOCHE_100.csv',\n",
    "}"
   ]
  },
  {
   "cell_type": "markdown",
   "metadata": {},
   "source": [
    "So far we only process data for Austria, but we are prepared to do so for more countries:"
   ]
  },
  {
   "cell_type": "code",
   "execution_count": 3,
   "metadata": {},
   "outputs": [],
   "source": [
    "for (country, url) in data_sources.items():\n",
    "    retrieveDataFile(url, country)"
   ]
  },
  {
   "cell_type": "code",
   "execution_count": 4,
   "metadata": {},
   "outputs": [
    {
     "data": {
      "text/html": [
       "<div>\n",
       "<style scoped>\n",
       "    .dataframe tbody tr th:only-of-type {\n",
       "        vertical-align: middle;\n",
       "    }\n",
       "\n",
       "    .dataframe tbody tr th {\n",
       "        vertical-align: top;\n",
       "    }\n",
       "\n",
       "    .dataframe thead th {\n",
       "        text-align: right;\n",
       "    }\n",
       "</style>\n",
       "<table border=\"1\" class=\"dataframe\">\n",
       "  <thead>\n",
       "    <tr style=\"text-align: right;\">\n",
       "      <th></th>\n",
       "      <th>C-KALWOCHE-0</th>\n",
       "      <th>C-B00-0</th>\n",
       "      <th>C-ALTERGR65-0</th>\n",
       "      <th>C-C11-0</th>\n",
       "      <th>F-ANZ-1</th>\n",
       "    </tr>\n",
       "  </thead>\n",
       "  <tbody>\n",
       "    <tr>\n",
       "      <th>0</th>\n",
       "      <td>KALW-200001</td>\n",
       "      <td>B00-1</td>\n",
       "      <td>ALTERSGR65-1</td>\n",
       "      <td>C11-1</td>\n",
       "      <td>8</td>\n",
       "    </tr>\n",
       "    <tr>\n",
       "      <th>1</th>\n",
       "      <td>KALW-200001</td>\n",
       "      <td>B00-1</td>\n",
       "      <td>ALTERSGR65-1</td>\n",
       "      <td>C11-2</td>\n",
       "      <td>2</td>\n",
       "    </tr>\n",
       "    <tr>\n",
       "      <th>2</th>\n",
       "      <td>KALW-200001</td>\n",
       "      <td>B00-1</td>\n",
       "      <td>ALTERSGR65-2</td>\n",
       "      <td>C11-1</td>\n",
       "      <td>25</td>\n",
       "    </tr>\n",
       "    <tr>\n",
       "      <th>3</th>\n",
       "      <td>KALW-200001</td>\n",
       "      <td>B00-1</td>\n",
       "      <td>ALTERSGR65-2</td>\n",
       "      <td>C11-2</td>\n",
       "      <td>33</td>\n",
       "    </tr>\n",
       "    <tr>\n",
       "      <th>4</th>\n",
       "      <td>KALW-200001</td>\n",
       "      <td>B00-2</td>\n",
       "      <td>ALTERSGR65-1</td>\n",
       "      <td>C11-1</td>\n",
       "      <td>7</td>\n",
       "    </tr>\n",
       "  </tbody>\n",
       "</table>\n",
       "</div>"
      ],
      "text/plain": [
       "  C-KALWOCHE-0 C-B00-0 C-ALTERGR65-0 C-C11-0  F-ANZ-1\n",
       "0  KALW-200001   B00-1  ALTERSGR65-1   C11-1        8\n",
       "1  KALW-200001   B00-1  ALTERSGR65-1   C11-2        2\n",
       "2  KALW-200001   B00-1  ALTERSGR65-2   C11-1       25\n",
       "3  KALW-200001   B00-1  ALTERSGR65-2   C11-2       33\n",
       "4  KALW-200001   B00-2  ALTERSGR65-1   C11-1        7"
      ]
     },
     "execution_count": 4,
     "metadata": {},
     "output_type": "execute_result"
    }
   ],
   "source": [
    "df = pd.read_csv('data/at/OGD_gest_kalwo_GEST_KALWOCHE_100.csv',sep=';', delimiter=None, )\n",
    "df.head()"
   ]
  },
  {
   "cell_type": "markdown",
   "metadata": {},
   "source": [
    "**Fields**\n",
    "\n",
    " - C-KALWOCHE-0 - Year / Calendar Week\n",
    " - C-B00-0 - Bundesland (not needed)\n",
    " - C-ALTERGR65-0 (not needed)\n",
    "     - ALTERSGR65-1\t0 bis 64 Jahre \n",
    "     - ALTERSGR65-2\t65 Jahre und älter\n",
    " - C-C11-0 (not needed)\n",
    "     - C11-1\tmännlich\n",
    "     - C11-2\tweiblich\n",
    "     - C11-0\tNicht klassifizierbar\n",
    " - F-ANZ-1 - Count of deaths \n",
    " \n",
    " \n",
    " Our goal is to overlay each year to see if 2020 is different in terms of death statistics\n",
    " We are going to reformat the data, we need the following columns:\n",
    " \n",
    "  - year \n",
    "  - calendar week\n",
    "  - count death"
   ]
  },
  {
   "cell_type": "code",
   "execution_count": 5,
   "metadata": {},
   "outputs": [
    {
     "data": {
      "text/html": [
       "<div>\n",
       "<style scoped>\n",
       "    .dataframe tbody tr th:only-of-type {\n",
       "        vertical-align: middle;\n",
       "    }\n",
       "\n",
       "    .dataframe tbody tr th {\n",
       "        vertical-align: top;\n",
       "    }\n",
       "\n",
       "    .dataframe thead th {\n",
       "        text-align: right;\n",
       "    }\n",
       "</style>\n",
       "<table border=\"1\" class=\"dataframe\">\n",
       "  <thead>\n",
       "    <tr style=\"text-align: right;\">\n",
       "      <th></th>\n",
       "      <th>C-KALWOCHE-0</th>\n",
       "      <th>Anzahl Todesfälle</th>\n",
       "      <th>Jahr</th>\n",
       "      <th>KW</th>\n",
       "    </tr>\n",
       "  </thead>\n",
       "  <tbody>\n",
       "    <tr>\n",
       "      <th>0</th>\n",
       "      <td>KALW-200001</td>\n",
       "      <td>1867</td>\n",
       "      <td>2000</td>\n",
       "      <td>1</td>\n",
       "    </tr>\n",
       "    <tr>\n",
       "      <th>1</th>\n",
       "      <td>KALW-200002</td>\n",
       "      <td>1902</td>\n",
       "      <td>2000</td>\n",
       "      <td>2</td>\n",
       "    </tr>\n",
       "    <tr>\n",
       "      <th>2</th>\n",
       "      <td>KALW-200003</td>\n",
       "      <td>2027</td>\n",
       "      <td>2000</td>\n",
       "      <td>3</td>\n",
       "    </tr>\n",
       "    <tr>\n",
       "      <th>3</th>\n",
       "      <td>KALW-200004</td>\n",
       "      <td>1940</td>\n",
       "      <td>2000</td>\n",
       "      <td>4</td>\n",
       "    </tr>\n",
       "    <tr>\n",
       "      <th>4</th>\n",
       "      <td>KALW-200005</td>\n",
       "      <td>1928</td>\n",
       "      <td>2000</td>\n",
       "      <td>5</td>\n",
       "    </tr>\n",
       "    <tr>\n",
       "      <th>5</th>\n",
       "      <td>KALW-200006</td>\n",
       "      <td>1760</td>\n",
       "      <td>2000</td>\n",
       "      <td>6</td>\n",
       "    </tr>\n",
       "    <tr>\n",
       "      <th>6</th>\n",
       "      <td>KALW-200007</td>\n",
       "      <td>1666</td>\n",
       "      <td>2000</td>\n",
       "      <td>7</td>\n",
       "    </tr>\n",
       "    <tr>\n",
       "      <th>7</th>\n",
       "      <td>KALW-200008</td>\n",
       "      <td>1628</td>\n",
       "      <td>2000</td>\n",
       "      <td>8</td>\n",
       "    </tr>\n",
       "    <tr>\n",
       "      <th>8</th>\n",
       "      <td>KALW-200009</td>\n",
       "      <td>1566</td>\n",
       "      <td>2000</td>\n",
       "      <td>9</td>\n",
       "    </tr>\n",
       "    <tr>\n",
       "      <th>9</th>\n",
       "      <td>KALW-200010</td>\n",
       "      <td>1524</td>\n",
       "      <td>2000</td>\n",
       "      <td>10</td>\n",
       "    </tr>\n",
       "    <tr>\n",
       "      <th>10</th>\n",
       "      <td>KALW-200011</td>\n",
       "      <td>1528</td>\n",
       "      <td>2000</td>\n",
       "      <td>11</td>\n",
       "    </tr>\n",
       "    <tr>\n",
       "      <th>11</th>\n",
       "      <td>KALW-200012</td>\n",
       "      <td>1501</td>\n",
       "      <td>2000</td>\n",
       "      <td>12</td>\n",
       "    </tr>\n",
       "    <tr>\n",
       "      <th>12</th>\n",
       "      <td>KALW-200013</td>\n",
       "      <td>1428</td>\n",
       "      <td>2000</td>\n",
       "      <td>13</td>\n",
       "    </tr>\n",
       "    <tr>\n",
       "      <th>13</th>\n",
       "      <td>KALW-200014</td>\n",
       "      <td>1475</td>\n",
       "      <td>2000</td>\n",
       "      <td>14</td>\n",
       "    </tr>\n",
       "    <tr>\n",
       "      <th>14</th>\n",
       "      <td>KALW-200015</td>\n",
       "      <td>1543</td>\n",
       "      <td>2000</td>\n",
       "      <td>15</td>\n",
       "    </tr>\n",
       "  </tbody>\n",
       "</table>\n",
       "</div>"
      ],
      "text/plain": [
       "   C-KALWOCHE-0  Anzahl Todesfälle  Jahr  KW\n",
       "0   KALW-200001               1867  2000   1\n",
       "1   KALW-200002               1902  2000   2\n",
       "2   KALW-200003               2027  2000   3\n",
       "3   KALW-200004               1940  2000   4\n",
       "4   KALW-200005               1928  2000   5\n",
       "5   KALW-200006               1760  2000   6\n",
       "6   KALW-200007               1666  2000   7\n",
       "7   KALW-200008               1628  2000   8\n",
       "8   KALW-200009               1566  2000   9\n",
       "9   KALW-200010               1524  2000  10\n",
       "10  KALW-200011               1528  2000  11\n",
       "11  KALW-200012               1501  2000  12\n",
       "12  KALW-200013               1428  2000  13\n",
       "13  KALW-200014               1475  2000  14\n",
       "14  KALW-200015               1543  2000  15"
      ]
     },
     "execution_count": 5,
     "metadata": {},
     "output_type": "execute_result"
    }
   ],
   "source": [
    "# Summe der Todesfälle pro Kalenderwoche\n",
    "group = df['F-ANZ-1'].groupby(df['C-KALWOCHE-0']).sum()\n",
    "#group.head()\n",
    "#type(group)\n",
    "frame = {'Anzahl Todesfälle': group }  \n",
    "result_df = pd.DataFrame(frame).reset_index()\n",
    "\n",
    "# Spalte für Jahr\n",
    "result_df['Jahr']= result_df['C-KALWOCHE-0'].apply(lambda x: x[5:9])\n",
    "\n",
    "# Spalte für KW\n",
    "result_df['KW']= result_df['C-KALWOCHE-0'].apply(lambda x: int(x[9:11]))\n",
    "\n",
    "#result_df\n",
    "result_df.head(15)"
   ]
  },
  {
   "cell_type": "code",
   "execution_count": 6,
   "metadata": {},
   "outputs": [
    {
     "name": "stdout",
     "output_type": "stream",
     "text": [
      "49\n"
     ]
    }
   ],
   "source": [
    "# max KW (when was the last update)\n",
    "print(result_df[result_df['Jahr'] == '2020']['KW'].max())"
   ]
  },
  {
   "cell_type": "markdown",
   "metadata": {},
   "source": [
    "# Publishing data\n",
    "\n",
    "for now just to CSV"
   ]
  },
  {
   "cell_type": "code",
   "execution_count": 7,
   "metadata": {},
   "outputs": [],
   "source": [
    "#result_df.to_csv('death_per_kw.csv', sep =';', index=False) "
   ]
  },
  {
   "cell_type": "markdown",
   "metadata": {},
   "source": [
    "# Boxplot"
   ]
  },
  {
   "cell_type": "code",
   "execution_count": 8,
   "metadata": {},
   "outputs": [],
   "source": [
    "older_data=result_df[result_df['Jahr']<'2020']\n",
    "\n",
    "new_data = result_df[result_df['Jahr']>='2020']"
   ]
  },
  {
   "cell_type": "code",
   "execution_count": 9,
   "metadata": {},
   "outputs": [
    {
     "data": {
      "image/png": "[encoded data removed]",
      "text/plain": [
       "<Figure size 1440x720 with 1 Axes>"
      ]
     },
     "metadata": {
      "needs_background": "light"
     },
     "output_type": "display_data"
    }
   ],
   "source": [
    "x_ticks = np.arange(1,54)\n",
    "\n",
    "groupby = older_data['Jahr'].unique()\n",
    "plot_axis = older_data.boxplot(column=['Anzahl Todesfälle'],\n",
    "                               by='KW',\n",
    "                               figsize=(20,10))\n",
    "\n",
    "# removing the \"grouped by\" boxplot auto text & set new header\n",
    "plot_axis.get_figure().suptitle('')\n",
    "plot_axis.set_title('Anzahl der Todesfälle - Vergleich 2000-2019 (box charts) vs. ab 2020 (red lines)')\n",
    "\n",
    "# This will be the legend\n",
    "legend_lines = []\n",
    "legend_text  = []\n",
    "\n",
    "new_years = new_data['Jahr']\n",
    "for year in range( int(new_years.max()), int(new_years.min()) - 1, -1 ):\n",
    "    color = next(reds())\n",
    "    legend_lines.append(Line2D([0], [0], color=color, lw=2))\n",
    "    legend_text.append('Anzahl Todesfälle ' + str(year))\n",
    "    # plot the red line on top\n",
    "    new_data[new_data['Jahr']==str(year)].plot.line(\n",
    "        x='KW',\n",
    "        y='Anzahl Todesfälle',\n",
    "        color=color, \n",
    "        ax=plot_axis, \n",
    "        figsize=(20,10),\n",
    "        xticks=x_ticks)\n",
    "\n",
    "# normalize the graph\n",
    "plot_axis.set_xlim(-1, 54)\n",
    "plot_axis.set_ylim(0, 2800)\n",
    "plot_axis.grid(axis='y')\n",
    "\n",
    "# update legend\n",
    "legend_lines.append(Line2D([0], [0], color=\"lightblue\", lw=2))\n",
    "legend_text.append('Anzahl Todesfälle 2000-2019')\n",
    "\n",
    "plot_axis.legend(legend_lines, legend_text)\n",
    "\n",
    "# better xlabel title\n",
    "plot_axis.set_xlabel(\"Kalenderwoche\")\n",
    "plot_axis.set_ylabel(\"Todesfälle\")\n",
    "\n",
    "lbls = plot_axis.set_xticklabels(x_ticks)"
   ]
  }
 ],
 "metadata": {
  "kernelspec": {
   "display_name": "Python 3",
   "language": "python",
   "name": "python3"
  },
  "language_info": {
   "codemirror_mode": {
    "name": "ipython",
    "version": 3
   },
   "file_extension": ".py",
   "mimetype": "text/x-python",
   "name": "python",
   "nbconvert_exporter": "python",
   "pygments_lexer": "ipython3",
   "version": "3.8.5"
  }
 },
 "nbformat": 4,
 "nbformat_minor": 4
}
